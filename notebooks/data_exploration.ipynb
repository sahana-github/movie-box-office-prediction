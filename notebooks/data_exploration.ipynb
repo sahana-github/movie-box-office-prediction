{
 "cells": [
  {
   "cell_type": "code",
   "execution_count": 5,
   "metadata": {},
   "outputs": [],
   "source": [
    "import pandas as pd\n",
    "\n",
    "# Load the dataset\n",
    "df = pd.read_csv('/home/sahana/movie-box-office-prediction/data/raw/bollywood_2022.csv')\n"
   ]
  },
  {
   "cell_type": "code",
   "execution_count": 6,
   "metadata": {},
   "outputs": [
    {
     "data": {
      "text/html": [
       "<div>\n",
       "<style scoped>\n",
       "    .dataframe tbody tr th:only-of-type {\n",
       "        vertical-align: middle;\n",
       "    }\n",
       "\n",
       "    .dataframe tbody tr th {\n",
       "        vertical-align: top;\n",
       "    }\n",
       "\n",
       "    .dataframe thead th {\n",
       "        text-align: right;\n",
       "    }\n",
       "</style>\n",
       "<table border=\"1\" class=\"dataframe\">\n",
       "  <thead>\n",
       "    <tr style=\"text-align: right;\">\n",
       "      <th></th>\n",
       "      <th>Movie</th>\n",
       "      <th>Worldwide</th>\n",
       "      <th>India Net</th>\n",
       "      <th>India Gross</th>\n",
       "      <th>Overseas</th>\n",
       "      <th>Budget</th>\n",
       "      <th>Verdict</th>\n",
       "      <th>Movie Type</th>\n",
       "      <th>Released Date</th>\n",
       "    </tr>\n",
       "  </thead>\n",
       "  <tbody>\n",
       "    <tr>\n",
       "      <th>0</th>\n",
       "      <td>JugJugg Jeeyo</td>\n",
       "      <td>74.50</td>\n",
       "      <td>50.24</td>\n",
       "      <td>54.50</td>\n",
       "      <td>20.0</td>\n",
       "      <td>100</td>\n",
       "      <td>NaN</td>\n",
       "      <td>Bollywood</td>\n",
       "      <td>24-Jun-22</td>\n",
       "    </tr>\n",
       "    <tr>\n",
       "      <th>1</th>\n",
       "      <td>Virata Parvam</td>\n",
       "      <td>4.20</td>\n",
       "      <td>5.12</td>\n",
       "      <td>2.90</td>\n",
       "      <td>1.3</td>\n",
       "      <td>1</td>\n",
       "      <td>NaN</td>\n",
       "      <td>Tollywood</td>\n",
       "      <td>17-Jun-22</td>\n",
       "    </tr>\n",
       "    <tr>\n",
       "      <th>2</th>\n",
       "      <td>Naadi Dosh</td>\n",
       "      <td>8.15</td>\n",
       "      <td>7.87</td>\n",
       "      <td>8.15</td>\n",
       "      <td>0.0</td>\n",
       "      <td>1</td>\n",
       "      <td>NaN</td>\n",
       "      <td>Gollywood</td>\n",
       "      <td>17-Jun-22</td>\n",
       "    </tr>\n",
       "    <tr>\n",
       "      <th>3</th>\n",
       "      <td>Veetla Vishesham</td>\n",
       "      <td>9.60</td>\n",
       "      <td>7.40</td>\n",
       "      <td>8.60</td>\n",
       "      <td>1.0</td>\n",
       "      <td>1</td>\n",
       "      <td>NaN</td>\n",
       "      <td>Kollywood</td>\n",
       "      <td>17-Jun-22</td>\n",
       "    </tr>\n",
       "    <tr>\n",
       "      <th>4</th>\n",
       "      <td>Nikamma</td>\n",
       "      <td>0.80</td>\n",
       "      <td>2.19</td>\n",
       "      <td>0.60</td>\n",
       "      <td>0.2</td>\n",
       "      <td>1</td>\n",
       "      <td>NaN</td>\n",
       "      <td>Bollywood</td>\n",
       "      <td>17-Jun-22</td>\n",
       "    </tr>\n",
       "  </tbody>\n",
       "</table>\n",
       "</div>"
      ],
      "text/plain": [
       "              Movie  Worldwide  India Net  India Gross  Overseas  Budget  \\\n",
       "0     JugJugg Jeeyo      74.50      50.24        54.50      20.0     100   \n",
       "1     Virata Parvam       4.20       5.12         2.90       1.3       1   \n",
       "2        Naadi Dosh       8.15       7.87         8.15       0.0       1   \n",
       "3  Veetla Vishesham       9.60       7.40         8.60       1.0       1   \n",
       "4           Nikamma       0.80       2.19         0.60       0.2       1   \n",
       "\n",
       "  Verdict Movie Type Released Date  \n",
       "0     NaN  Bollywood     24-Jun-22  \n",
       "1     NaN  Tollywood     17-Jun-22  \n",
       "2     NaN  Gollywood     17-Jun-22  \n",
       "3     NaN  Kollywood     17-Jun-22  \n",
       "4     NaN  Bollywood     17-Jun-22  "
      ]
     },
     "execution_count": 6,
     "metadata": {},
     "output_type": "execute_result"
    }
   ],
   "source": [
    "# Check the first few rows of the dataset\n",
    "df.head()"
   ]
  },
  {
   "cell_type": "code",
   "execution_count": 7,
   "metadata": {},
   "outputs": [
    {
     "data": {
      "text/plain": [
       "Movie             0\n",
       "Worldwide         0\n",
       "India Net         0\n",
       "India Gross       0\n",
       "Overseas          0\n",
       "Budget            0\n",
       "Verdict          37\n",
       "Movie Type        0\n",
       "Released Date     0\n",
       "dtype: int64"
      ]
     },
     "execution_count": 7,
     "metadata": {},
     "output_type": "execute_result"
    }
   ],
   "source": [
    "# Check for missing values\n",
    "df.isnull().sum()"
   ]
  },
  {
   "cell_type": "code",
   "execution_count": 8,
   "metadata": {},
   "outputs": [
    {
     "name": "stdout",
     "output_type": "stream",
     "text": [
      "<class 'pandas.core.frame.DataFrame'>\n",
      "RangeIndex: 100 entries, 0 to 99\n",
      "Data columns (total 9 columns):\n",
      " #   Column         Non-Null Count  Dtype  \n",
      "---  ------         --------------  -----  \n",
      " 0   Movie          100 non-null    object \n",
      " 1   Worldwide      100 non-null    float64\n",
      " 2   India Net      100 non-null    float64\n",
      " 3   India Gross    100 non-null    float64\n",
      " 4   Overseas       100 non-null    float64\n",
      " 5   Budget         100 non-null    int64  \n",
      " 6   Verdict        63 non-null     object \n",
      " 7   Movie Type     100 non-null    object \n",
      " 8   Released Date  100 non-null    object \n",
      "dtypes: float64(4), int64(1), object(4)\n",
      "memory usage: 7.2+ KB\n"
     ]
    }
   ],
   "source": [
    "# Check data types\n",
    "df.info()"
   ]
  },
  {
   "cell_type": "code",
   "execution_count": 9,
   "metadata": {},
   "outputs": [
    {
     "data": {
      "text/html": [
       "<div>\n",
       "<style scoped>\n",
       "    .dataframe tbody tr th:only-of-type {\n",
       "        vertical-align: middle;\n",
       "    }\n",
       "\n",
       "    .dataframe tbody tr th {\n",
       "        vertical-align: top;\n",
       "    }\n",
       "\n",
       "    .dataframe thead th {\n",
       "        text-align: right;\n",
       "    }\n",
       "</style>\n",
       "<table border=\"1\" class=\"dataframe\">\n",
       "  <thead>\n",
       "    <tr style=\"text-align: right;\">\n",
       "      <th></th>\n",
       "      <th>Worldwide</th>\n",
       "      <th>India Net</th>\n",
       "      <th>India Gross</th>\n",
       "      <th>Overseas</th>\n",
       "      <th>Budget</th>\n",
       "    </tr>\n",
       "  </thead>\n",
       "  <tbody>\n",
       "    <tr>\n",
       "      <th>count</th>\n",
       "      <td>100.000000</td>\n",
       "      <td>100.000000</td>\n",
       "      <td>100.000000</td>\n",
       "      <td>100.000000</td>\n",
       "      <td>100.000000</td>\n",
       "    </tr>\n",
       "    <tr>\n",
       "      <th>mean</th>\n",
       "      <td>311.761201</td>\n",
       "      <td>55.035101</td>\n",
       "      <td>62.586201</td>\n",
       "      <td>151.715000</td>\n",
       "      <td>79.040000</td>\n",
       "    </tr>\n",
       "    <tr>\n",
       "      <th>std</th>\n",
       "      <td>1228.726280</td>\n",
       "      <td>122.760349</td>\n",
       "      <td>144.011014</td>\n",
       "      <td>699.455603</td>\n",
       "      <td>234.986693</td>\n",
       "    </tr>\n",
       "    <tr>\n",
       "      <th>min</th>\n",
       "      <td>0.000100</td>\n",
       "      <td>0.000100</td>\n",
       "      <td>0.000100</td>\n",
       "      <td>0.000000</td>\n",
       "      <td>1.000000</td>\n",
       "    </tr>\n",
       "    <tr>\n",
       "      <th>25%</th>\n",
       "      <td>4.087500</td>\n",
       "      <td>5.270000</td>\n",
       "      <td>3.750000</td>\n",
       "      <td>0.000000</td>\n",
       "      <td>1.000000</td>\n",
       "    </tr>\n",
       "    <tr>\n",
       "      <th>50%</th>\n",
       "      <td>23.000000</td>\n",
       "      <td>17.970000</td>\n",
       "      <td>18.300000</td>\n",
       "      <td>3.100000</td>\n",
       "      <td>5.000000</td>\n",
       "    </tr>\n",
       "    <tr>\n",
       "      <th>75%</th>\n",
       "      <td>83.500000</td>\n",
       "      <td>50.315000</td>\n",
       "      <td>56.875000</td>\n",
       "      <td>19.025000</td>\n",
       "      <td>60.000000</td>\n",
       "    </tr>\n",
       "    <tr>\n",
       "      <th>max</th>\n",
       "      <td>10170.000000</td>\n",
       "      <td>859.550000</td>\n",
       "      <td>1000.650000</td>\n",
       "      <td>5640.000000</td>\n",
       "      <td>1500.000000</td>\n",
       "    </tr>\n",
       "  </tbody>\n",
       "</table>\n",
       "</div>"
      ],
      "text/plain": [
       "          Worldwide   India Net  India Gross     Overseas       Budget\n",
       "count    100.000000  100.000000   100.000000   100.000000   100.000000\n",
       "mean     311.761201   55.035101    62.586201   151.715000    79.040000\n",
       "std     1228.726280  122.760349   144.011014   699.455603   234.986693\n",
       "min        0.000100    0.000100     0.000100     0.000000     1.000000\n",
       "25%        4.087500    5.270000     3.750000     0.000000     1.000000\n",
       "50%       23.000000   17.970000    18.300000     3.100000     5.000000\n",
       "75%       83.500000   50.315000    56.875000    19.025000    60.000000\n",
       "max    10170.000000  859.550000  1000.650000  5640.000000  1500.000000"
      ]
     },
     "execution_count": 9,
     "metadata": {},
     "output_type": "execute_result"
    }
   ],
   "source": [
    "# Get a summary of numerical columns\n",
    "df.describe()"
   ]
  },
  {
   "cell_type": "code",
   "execution_count": 10,
   "metadata": {},
   "outputs": [],
   "source": [
    "df.dropna(subset=['Verdict'], inplace=True)\n"
   ]
  },
  {
   "cell_type": "code",
   "execution_count": 11,
   "metadata": {},
   "outputs": [
    {
     "name": "stderr",
     "output_type": "stream",
     "text": [
      "/tmp/ipykernel_11996/3768725812.py:1: FutureWarning: A value is trying to be set on a copy of a DataFrame or Series through chained assignment using an inplace method.\n",
      "The behavior will change in pandas 3.0. This inplace method will never work because the intermediate object on which we are setting values always behaves as a copy.\n",
      "\n",
      "For example, when doing 'df[col].method(value, inplace=True)', try using 'df.method({col: value}, inplace=True)' or df[col] = df[col].method(value) instead, to perform the operation inplace on the original object.\n",
      "\n",
      "\n",
      "  df['Verdict'].fillna(df['Verdict'].mode()[0], inplace=True)\n"
     ]
    }
   ],
   "source": [
    "df['Verdict'].fillna(df['Verdict'].mode()[0], inplace=True)\n"
   ]
  },
  {
   "cell_type": "code",
   "execution_count": 12,
   "metadata": {},
   "outputs": [],
   "source": [
    "#onvert Released Date to datetime: It's important to convert the Released Date column into a datetime object for easier manipulation:\n",
    "df['Released Date'] = pd.to_datetime(df['Released Date'], format='%d-%b-%y')\n"
   ]
  },
  {
   "cell_type": "code",
   "execution_count": null,
   "metadata": {},
   "outputs": [
    {
     "data": {
      "image/png": "[encoded data removed]",
      "text/plain": [
       "<Figure size 640x480 with 1 Axes>"
      ]
     },
     "metadata": {},
     "output_type": "display_data"
    }
   ],
   "source": [
    "#Handle Outliers\n",
    "import seaborn as sns\n",
    "import matplotlib.pyplot as plt\n",
    "\n",
    "sns.boxplot(df['Worldwide'])\n",
    "plt.show()\n"
   ]
  },
  {
   "cell_type": "code",
   "execution_count": 15,
   "metadata": {},
   "outputs": [],
   "source": [
    "df['Worldwide'] = df['Worldwide'].clip(upper=df['Worldwide'].quantile(0.95))\n"
   ]
  },
  {
   "cell_type": "markdown",
   "metadata": {},
   "source": [
    "Feature Engineering"
   ]
  },
  {
   "cell_type": "markdown",
   "metadata": {},
   "source": [
    "Extract Month from Released Date: This helps to understand seasonal trends."
   ]
  },
  {
   "cell_type": "code",
   "execution_count": 16,
   "metadata": {},
   "outputs": [],
   "source": [
    "df['Release Month'] = df['Released Date'].dt.month\n"
   ]
  },
  {
   "cell_type": "markdown",
   "metadata": {},
   "source": [
    "Budget-to-Revenue Ratio: This is an important feature that could help predict how movies perform relative to their budget."
   ]
  },
  {
   "cell_type": "code",
   "execution_count": 18,
   "metadata": {},
   "outputs": [],
   "source": [
    "df['Budget-to-Revenue'] = df['Budget'] / df['Worldwide']\n"
   ]
  },
  {
   "cell_type": "markdown",
   "metadata": {},
   "source": [
    "One-Hot Encode Movie Type: Use one-hot encoding to convert categorical variables into numerical ones."
   ]
  },
  {
   "cell_type": "code",
   "execution_count": 19,
   "metadata": {},
   "outputs": [],
   "source": [
    "df = pd.get_dummies(df, columns=['Movie Type'], drop_first=True)\n"
   ]
  },
  {
   "cell_type": "markdown",
   "metadata": {},
   "source": [
    "Scale Numerical Features: Normalize the numerical features like Budget, India Net, and Worldwide using MinMaxScaler."
   ]
  },
  {
   "cell_type": "code",
   "execution_count": 20,
   "metadata": {},
   "outputs": [],
   "source": [
    "from sklearn.preprocessing import MinMaxScaler\n",
    "\n",
    "scaler = MinMaxScaler()\n",
    "df[['Budget', 'India Net', 'Worldwide']] = scaler.fit_transform(df[['Budget', 'India Net', 'Worldwide']])\n"
   ]
  },
  {
   "cell_type": "markdown",
   "metadata": {},
   "source": [
    "Save the Processed Data"
   ]
  },
  {
   "cell_type": "code",
   "execution_count": 22,
   "metadata": {},
   "outputs": [],
   "source": [
    "df.to_csv('/home/sahana/movie-box-office-prediction/data/processed/bollywood_movies_processed.csv', index=False)\n"
   ]
  }
 ],
 "metadata": {
  "kernelspec": {
   "display_name": "movie",
   "language": "python",
   "name": "python3"
  },
  "language_info": {
   "codemirror_mode": {
    "name": "ipython",
    "version": 3
   },
   "file_extension": ".py",
   "mimetype": "text/x-python",
   "name": "python",
   "nbconvert_exporter": "python",
   "pygments_lexer": "ipython3",
   "version": "3.13.1"
  }
 },
 "nbformat": 4,
 "nbformat_minor": 2
}
